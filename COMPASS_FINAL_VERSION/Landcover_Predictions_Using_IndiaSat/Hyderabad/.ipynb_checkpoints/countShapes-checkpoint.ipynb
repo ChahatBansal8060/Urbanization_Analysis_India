{
 "cells": [
  {
   "cell_type": "code",
   "execution_count": 7,
   "metadata": {},
   "outputs": [
    {
     "name": "stdout",
     "output_type": "stream",
     "text": [
      "[0 3 4]\n",
      "[0 4]\n",
      "[0 3]\n",
      "[0 4]\n",
      "[0]\n",
      "Hyderabad_2018_year_median@BA27.tif\n",
      "[0]\n",
      "Hyderabad_2018_year_median@BA26.tif\n",
      "[0 4]\n",
      "[0 4]\n",
      "[0]\n",
      "Hyderabad_2018_year_median@BA6.tif\n",
      "[0 4]\n",
      "[0 4]\n",
      "[0 3]\n",
      "[4]\n",
      "[4]\n",
      "[0 3]\n",
      "[0 4]\n",
      "[0]\n",
      "Hyderabad_2018_year_median@BA28.tif\n",
      "[0 4]\n",
      "[0 4]\n",
      "[0 3 4]\n",
      "[0]\n",
      "Hyderabad_2018_year_median@BA17.tif\n",
      "[0]\n",
      "Hyderabad_2018_year_median@BA25.tif\n",
      "[0]\n",
      "Hyderabad_2018_year_median@BA11.tif\n",
      "[0 3]\n",
      "[0 4]\n",
      "[0 4]\n",
      "[0 3]\n",
      "[0 3]\n",
      "7 21 28\n"
     ]
    }
   ],
   "source": [
    "import os, sys\n",
    "import imageio\n",
    "import numpy as np\n",
    "\n",
    "main_folder=\"out_cutfiles/Hyderabad_median_2018_BA\"\n",
    "\n",
    "empty_pics=0\n",
    "countable_pics=0\n",
    "\n",
    "for infile in os.listdir(main_folder):\n",
    "    if infile[-4:]==\".tif\":\n",
    "        Image=imageio.imread(main_folder+\"/\"+infile)\n",
    "        print(np.unique(Image))\n",
    "        if(((np.unique(Image).size==1) and (np.unique(Image)[0]==0)) or (np.unique(Image).size==0)):\n",
    "            print(infile)\n",
    "            empty_pics+=1\n",
    "        else:\n",
    "            countable_pics+=1\n",
    "print(empty_pics,countable_pics,empty_pics+countable_pics)"
   ]
  },
  {
   "cell_type": "code",
   "execution_count": null,
   "metadata": {},
   "outputs": [],
   "source": []
  }
 ],
 "metadata": {
  "kernelspec": {
   "display_name": "Python 3",
   "language": "python",
   "name": "python3"
  },
  "language_info": {
   "codemirror_mode": {
    "name": "ipython",
    "version": 3
   },
   "file_extension": ".py",
   "mimetype": "text/x-python",
   "name": "python",
   "nbconvert_exporter": "python",
   "pygments_lexer": "ipython3",
   "version": "3.6.8"
  }
 },
 "nbformat": 4,
 "nbformat_minor": 2
}
