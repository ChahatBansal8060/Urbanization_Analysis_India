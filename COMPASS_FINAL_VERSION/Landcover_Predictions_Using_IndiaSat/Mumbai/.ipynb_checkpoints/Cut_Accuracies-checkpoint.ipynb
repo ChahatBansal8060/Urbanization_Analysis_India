{
 "cells": [
  {
   "cell_type": "code",
   "execution_count": 1,
   "metadata": {},
   "outputs": [
    {
     "ename": "NameError",
     "evalue": "name 'BA' is not defined",
     "output_type": "error",
     "traceback": [
      "\u001b[0;31m---------------------------------------------------------------------------\u001b[0m",
      "\u001b[0;31mNameError\u001b[0m                                 Traceback (most recent call last)",
      "\u001b[0;32m<ipython-input-1-0db50c66287c>\u001b[0m in \u001b[0;36m<module>\u001b[0;34m\u001b[0m\n\u001b[1;32m     10\u001b[0m \u001b[0;34m\u001b[0m\u001b[0m\n\u001b[1;32m     11\u001b[0m \u001b[0mmain_folder\u001b[0m\u001b[0;34m=\u001b[0m\u001b[0;34m\"out_cutfiles/Mumbai_median_2018_BA\"\u001b[0m\u001b[0;34m\u001b[0m\u001b[0;34m\u001b[0m\u001b[0m\n\u001b[0;32m---> 12\u001b[0;31m \u001b[0mmain_pixel_color_code\u001b[0m\u001b[0;34m=\u001b[0m\u001b[0mBA\u001b[0m\u001b[0;34m\u001b[0m\u001b[0;34m\u001b[0m\u001b[0m\n\u001b[0m\u001b[1;32m     13\u001b[0m \u001b[0;34m\u001b[0m\u001b[0m\n\u001b[1;32m     14\u001b[0m \u001b[0;34m\u001b[0m\u001b[0m\n",
      "\u001b[0;31mNameError\u001b[0m: name 'BA' is not defined"
     ]
    }
   ],
   "source": [
    "import os, sys\n",
    "import imageio\n",
    "import numpy as np\n",
    "\n",
    "greenery=1\n",
    "water=2\n",
    "BU=3\n",
    "Bareland=4\n",
    "\n",
    "\n",
    "main_folder=\"out_cutfiles/Mumbai_median_2018_BA\"\n",
    "main_pixel_color_code=Bareland\n",
    "\n",
    "\n",
    "main_pixel_count=0\n",
    "total_relevant_pixel_count=0\n",
    "empty_pics=0\n",
    "green_count=0\n",
    "water_count=0\n",
    "BU_count=0\n",
    "Bareland_count=0\n",
    "\n",
    "for infile in os.listdir(main_folder):\n",
    "    if infile[-4:]==\".tif\":\n",
    "        print(infile)\n",
    "        cut_Image=imageio.imread(main_folder+\"/\"+infile)\n",
    "        print(np.unique(cut_Image,return_counts=True))\n",
    "        if(main_pixel_color_code in np.unique(cut_Image,return_counts=True)[0]):\n",
    "            print(np.where(np.unique(cut_Image,return_counts=True)[0]==main_pixel_color_code)[0][0])\n",
    "            print(np.unique(cut_Image,return_counts=True)[1][np.where(np.unique(cut_Image,return_counts=True)[0]==main_pixel_color_code)[0][0]])\n",
    "            main_pixel_count+=np.unique(cut_Image,return_counts=True)[1][np.where(np.unique(cut_Image,return_counts=True)[0]==main_pixel_color_code)[0][0]]\n",
    "            total_relevant_pixel_count+=sum(np.unique(cut_Image,return_counts=True)[1])-np.unique(cut_Image,return_counts=True)[1][0]\n",
    "    #         print(main_pixel_color_code,total_relevant_pixel_count,empty_pics)\n",
    "        else:\n",
    "            empty_pics+=1\n",
    "            total_relevant_pixel_count+=sum(np.unique(cut_Image,return_counts=True)[1])-np.unique(cut_Image,return_counts=True)[1][0]\n",
    "            \n",
    "        if(greenery in np.unique(cut_Image,return_counts=True)[0]):\n",
    "            green_count+=np.unique(cut_Image,return_counts=True)[1][np.where(np.unique(cut_Image,return_counts=True)[0]==greenery)[0][0]]\n",
    "        if(water in np.unique(cut_Image,return_counts=True)[0]):\n",
    "            water_count+=np.unique(cut_Image,return_counts=True)[1][np.where(np.unique(cut_Image,return_counts=True)[0]==water)[0][0]]\n",
    "        if(BU in np.unique(cut_Image,return_counts=True)[0]):\n",
    "            BU_count+=np.unique(cut_Image,return_counts=True)[1][np.where(np.unique(cut_Image,return_counts=True)[0]==BU)[0][0]]\n",
    "        if(Bareland in np.unique(cut_Image,return_counts=True)[0]):\n",
    "            Bareland_count+=np.unique(cut_Image,return_counts=True)[1][np.where(np.unique(cut_Image,return_counts=True)[0]==Bareland)[0][0]]\n",
    "print(main_pixel_count,total_relevant_pixel_count,empty_pics)\n",
    "print(green_count,water_count,BU_count,Bareland_count)\n",
    "f=open(main_folder+\"/result.txt\",\"w+\")\n",
    "f.write(str(main_pixel_count)+\",\"+str(total_relevant_pixel_count)+\",\"+str(empty_pics))\n",
    "f.write(\"\\n\\nGreenery= \"+str(green_count)+\"\\nWater= \"+str(water_count)+\"\\nBU= \"+str(BU_count)+\"\\nBareland= \"+str(Bareland_count))\n",
    "f.close()"
   ]
  },
  {
   "cell_type": "code",
   "execution_count": null,
   "metadata": {},
   "outputs": [],
   "source": []
  },
  {
   "cell_type": "code",
   "execution_count": null,
   "metadata": {},
   "outputs": [],
   "source": []
  },
  {
   "cell_type": "code",
   "execution_count": null,
   "metadata": {},
   "outputs": [],
   "source": []
  },
  {
   "cell_type": "code",
   "execution_count": null,
   "metadata": {},
   "outputs": [],
   "source": []
  },
  {
   "cell_type": "code",
   "execution_count": null,
   "metadata": {},
   "outputs": [],
   "source": []
  },
  {
   "cell_type": "code",
   "execution_count": null,
   "metadata": {},
   "outputs": [],
   "source": []
  }
 ],
 "metadata": {
  "kernelspec": {
   "display_name": "Python 3",
   "language": "python",
   "name": "python3"
  },
  "language_info": {
   "codemirror_mode": {
    "name": "ipython",
    "version": 3
   },
   "file_extension": ".py",
   "mimetype": "text/x-python",
   "name": "python",
   "nbconvert_exporter": "python",
   "pygments_lexer": "ipython3",
   "version": "3.6.8"
  }
 },
 "nbformat": 4,
 "nbformat_minor": 2
}
