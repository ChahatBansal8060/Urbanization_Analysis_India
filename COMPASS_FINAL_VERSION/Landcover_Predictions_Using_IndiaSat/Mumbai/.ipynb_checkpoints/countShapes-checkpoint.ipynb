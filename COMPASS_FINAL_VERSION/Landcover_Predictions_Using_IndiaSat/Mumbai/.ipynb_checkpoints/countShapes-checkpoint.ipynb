{
 "cells": [
  {
   "cell_type": "code",
   "execution_count": 12,
   "metadata": {},
   "outputs": [
    {
     "name": "stdout",
     "output_type": "stream",
     "text": [
      "[0 1 3]\n",
      "[0 1 3]\n",
      "[0 1]\n",
      "[0 1]\n",
      "[0 1]\n",
      "[0 1]\n",
      "[0 1]\n",
      "[0 1]\n",
      "[0 1 3]\n",
      "[0 1]\n",
      "[0 1]\n",
      "[0 1]\n",
      "[0 1]\n",
      "[0 1 3]\n",
      "[0 1]\n",
      "[0 1]\n",
      "[0 1]\n",
      "[0 1 3]\n",
      "[0 1 3]\n",
      "[0 1]\n",
      "[0 3]\n",
      "[0 1]\n",
      "[0 1]\n",
      "[0 1 3]\n",
      "[0 1 3]\n",
      "[0 1]\n",
      "[0 1 3]\n",
      "[0 1]\n",
      "[0 1]\n",
      "[0 1]\n",
      "[0 1]\n",
      "[0 1]\n",
      "[0 1]\n",
      "[0 1 3]\n",
      "[0 1]\n",
      "[0 1 3]\n",
      "[0 1]\n",
      "[0 1]\n",
      "[0 1]\n",
      "[0 1]\n",
      "[0 1]\n",
      "[0 1]\n",
      "[0 1 3]\n",
      "[0 1 3]\n",
      "[0 1]\n",
      "0 45 45\n"
     ]
    }
   ],
   "source": [
    "import os, sys\n",
    "import imageio\n",
    "import numpy as np\n",
    "\n",
    "main_folder=\"out_cutfiles/Mumbai_median_2018_G\"\n",
    "\n",
    "empty_pics=0\n",
    "countable_pics=0\n",
    "\n",
    "for infile in os.listdir(main_folder):\n",
    "    if infile[-4:]==\".tif\":\n",
    "        Image=imageio.imread(main_folder+\"/\"+infile)\n",
    "        print(np.unique(Image))\n",
    "        if(np.unique(Image).size<=1):\n",
    "            if(np.unique(Image)[0] !=0):\n",
    "                raise exception\n",
    "            print(infile)\n",
    "            empty_pics+=1\n",
    "        else:\n",
    "            countable_pics+=1\n",
    "print(empty_pics,countable_pics,empty_pics+countable_pics)"
   ]
  },
  {
   "cell_type": "code",
   "execution_count": null,
   "metadata": {},
   "outputs": [],
   "source": []
  }
 ],
 "metadata": {
  "kernelspec": {
   "display_name": "Python 3",
   "language": "python",
   "name": "python3"
  },
  "language_info": {
   "codemirror_mode": {
    "name": "ipython",
    "version": 3
   },
   "file_extension": ".py",
   "mimetype": "text/x-python",
   "name": "python",
   "nbconvert_exporter": "python",
   "pygments_lexer": "ipython3",
   "version": "3.6.8"
  }
 },
 "nbformat": 4,
 "nbformat_minor": 2
}
